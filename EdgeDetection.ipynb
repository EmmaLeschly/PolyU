{
  "cells": [
    {
      "cell_type": "markdown",
      "source": [
        "## Load the packages"
      ],
      "metadata": {
        "id": "fl85gg6MQlnM"
      },
      "id": "fl85gg6MQlnM"
    },
    {
      "cell_type": "code",
      "execution_count": null,
      "id": "23b31324",
      "metadata": {
        "id": "23b31324"
      },
      "outputs": [],
      "source": [
        "# import the required packages\n",
        "import cv2\n",
        "import numpy as np\n",
        "from scipy import signal\n",
        "import matplotlib.pyplot as plt"
      ]
    },
    {
      "cell_type": "markdown",
      "source": [
        "## Read the image and show it"
      ],
      "metadata": {
        "id": "9khdwW1DQtIa"
      },
      "id": "9khdwW1DQtIa"
    },
    {
      "cell_type": "code",
      "execution_count": null,
      "id": "e14102d6",
      "metadata": {
        "id": "e14102d6"
      },
      "outputs": [],
      "source": [
        "# read the image\n",
        "img = cv2.imread('lenna.png') # when you use cv2 to read the image, the channel order of the image is BGR.\n",
        "\n",
        "# convert it into RGB \n",
        "img = cv2.cvtColor(img, cv2.COLOR_BGR2RGB)\n",
        "\n",
        "# show the image\n",
        "plt.imshow(img)\n",
        "plt.axis('off')\n",
        "plt.title('The original image')\n",
        "plt.show()"
      ]
    },
    {
      "cell_type": "markdown",
      "source": [
        "## Later on, we will use the Sobel operators to detect edges"
      ],
      "metadata": {
        "id": "nnAMy8-IRQHD"
      },
      "id": "nnAMy8-IRQHD"
    },
    {
      "cell_type": "markdown",
      "source": [
        "### 1. We convert the color image into a gray-scale image"
      ],
      "metadata": {
        "id": "PCejapziRTgk"
      },
      "id": "PCejapziRTgk"
    },
    {
      "cell_type": "code",
      "source": [
        "gray_img = cv2.cvtColor(img, cv2.COLOR_RGB2GRAY)"
      ],
      "metadata": {
        "id": "AqZE3W95RXOr"
      },
      "id": "AqZE3W95RXOr",
      "execution_count": null,
      "outputs": []
    },
    {
      "cell_type": "markdown",
      "source": [
        "### 2. Define the sobel operators (kernel size = 3)"
      ],
      "metadata": {
        "id": "iERSX_iURaaP"
      },
      "id": "iERSX_iURaaP"
    },
    {
      "cell_type": "code",
      "source": [
        "sobel_x = np.array([[-1, 0, 1], [-2, 0, 2], [-1, 0, 1]], dtype = np.float64)\n",
        "sobel_y = np.array([[-1, -2, -1], [0, 0, 0], [1, 2, 1]], dtype = np.float64)\n",
        "\n",
        "print(\"The horizontal Sobel operator:\")\n",
        "print(sobel_x)\n",
        "print(\"\\n\")\n",
        "print(\"The vertical Sobel operator:\")\n",
        "print(sobel_y)"
      ],
      "metadata": {
        "id": "wlz_0_w_RggF"
      },
      "id": "wlz_0_w_RggF",
      "execution_count": null,
      "outputs": []
    },
    {
      "cell_type": "markdown",
      "source": [
        "### 3. Apply Sobel operators to the image"
      ],
      "metadata": {
        "id": "lpvLGc7DRijD"
      },
      "id": "lpvLGc7DRijD"
    },
    {
      "cell_type": "code",
      "source": [
        "# filtering the image by the sobel_x and sobel_y operators.\n",
        "\n",
        "### mode = 'same', the sizes of input and out images are the same\n",
        "### boundary = 'symm',  symmetrical boundary condition\n",
        "### fillvalue = '0', the padded values are zero\n",
        "\n",
        "Ix = signal.convolve2d(gray_img, sobel_x, mode='same', boundary='symm', fillvalue=0)\n",
        "Iy = signal.convolve2d(gray_img, sobel_y, mode='same', boundary='symm', fillvalue=0)"
      ],
      "metadata": {
        "id": "Gnf79nRfRlaQ"
      },
      "id": "Gnf79nRfRlaQ",
      "execution_count": null,
      "outputs": []
    },
    {
      "cell_type": "markdown",
      "source": [
        "### 4. Calculate the derivative magnitude"
      ],
      "metadata": {
        "id": "Og-rj36CRoeE"
      },
      "id": "Og-rj36CRoeE"
    },
    {
      "cell_type": "code",
      "source": [
        "## calculate the edge magnitude = sqrt{d_x **2 + d_y ** 2}\n",
        "Ixy = np.sqrt(Ix**2 + Iy**2)\n",
        "Ixy *= 255.0/np.max(Ixy)  # Normalize the magnitude to [0, 255]"
      ],
      "metadata": {
        "id": "aZOc_NdNRrJm"
      },
      "id": "aZOc_NdNRrJm",
      "execution_count": null,
      "outputs": []
    },
    {
      "cell_type": "markdown",
      "source": [
        "### 5. Plot the computed images"
      ],
      "metadata": {
        "id": "8ma5nA_tRuO0"
      },
      "id": "8ma5nA_tRuO0"
    },
    {
      "cell_type": "code",
      "execution_count": null,
      "id": "ba68f39b",
      "metadata": {
        "id": "ba68f39b"
      },
      "outputs": [],
      "source": [
        "plt.figure(figsize=(20, 20))\n",
        "plt.subplot(1, 4, 1)\n",
        "plt.imshow(gray_img, cmap='gray')\n",
        "plt.axis('off')\n",
        "plt.title('Gray-scale image')\n",
        "\n",
        "plt.subplot(1, 4, 2)\n",
        "plt.imshow(Ix, cmap='gray')\n",
        "plt.axis('off')\n",
        "plt.title('Sobel X, $I_{x}$')\n",
        "\n",
        "plt.subplot(1, 4, 3)\n",
        "plt.imshow(Iy, cmap='gray')\n",
        "plt.axis('off')\n",
        "plt.title('Sobel Y, $I_{y}$')\n",
        "\n",
        "plt.subplot(1, 4, 4)\n",
        "plt.imshow(Ixy, cmap='gray')\n",
        "plt.axis('off')\n",
        "plt.title('Magnitude, $I_{xy}$')\n",
        "\n",
        "plt.show()"
      ]
    },
    {
      "cell_type": "markdown",
      "source": [
        "### 6. Save the images\n"
      ],
      "metadata": {
        "id": "1Nm1CWX7mzBl"
      },
      "id": "1Nm1CWX7mzBl"
    },
    {
      "cell_type": "code",
      "execution_count": null,
      "id": "51fd197d",
      "metadata": {
        "id": "51fd197d"
      },
      "outputs": [],
      "source": [
        "cv2.imwrite('sobel_x.png', Ix)\n",
        "cv2.imwrite('sobel_y.png', Iy)\n",
        "cv2.imwrite('edge_img.png', Ixy)"
      ]
    },
    {
      "cell_type": "code",
      "source": [
        ""
      ],
      "metadata": {
        "id": "dgI6B1AsoS2E"
      },
      "id": "dgI6B1AsoS2E",
      "execution_count": null,
      "outputs": []
    }
  ],
  "metadata": {
    "kernelspec": {
      "display_name": "Python 3 (ipykernel)",
      "language": "python",
      "name": "python3"
    },
    "language_info": {
      "codemirror_mode": {
        "name": "ipython",
        "version": 3
      },
      "file_extension": ".py",
      "mimetype": "text/x-python",
      "name": "python",
      "nbconvert_exporter": "python",
      "pygments_lexer": "ipython3",
      "version": "3.8.12"
    },
    "colab": {
      "name": "EdgeDetection.ipynb",
      "provenance": [],
      "collapsed_sections": []
    }
  },
  "nbformat": 4,
  "nbformat_minor": 5
}