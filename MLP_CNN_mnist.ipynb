{
  "nbformat": 4,
  "nbformat_minor": 0,
  "metadata": {
    "colab": {
      "name": "Copy of mnist_2021.ipynb",
      "provenance": [],
      "collapsed_sections": []
    },
    "kernelspec": {
      "name": "python3",
      "display_name": "Python 3"
    },
    "accelerator": "GPU",
    "widgets": {
      "application/vnd.jupyter.widget-state+json": {
        "5f6caa65ec2d4b2eb2914a156f8951cf": {
          "model_module": "@jupyter-widgets/controls",
          "model_name": "HBoxModel",
          "model_module_version": "1.5.0",
          "state": {
            "_view_name": "HBoxView",
            "_dom_classes": [],
            "_model_name": "HBoxModel",
            "_view_module": "@jupyter-widgets/controls",
            "_model_module_version": "1.5.0",
            "_view_count": null,
            "_view_module_version": "1.5.0",
            "box_style": "",
            "layout": "IPY_MODEL_bf6ea52d1bd04614981e4e380a54b7a6",
            "_model_module": "@jupyter-widgets/controls",
            "children": [
              "IPY_MODEL_5df7be29d08a41568a156a2697c033fc",
              "IPY_MODEL_535ec22951ba4333b45f27da5d1139e9",
              "IPY_MODEL_e6e569d4a80d493b989353774f30d7db"
            ]
          }
        },
        "bf6ea52d1bd04614981e4e380a54b7a6": {
          "model_module": "@jupyter-widgets/base",
          "model_name": "LayoutModel",
          "model_module_version": "1.2.0",
          "state": {
            "_view_name": "LayoutView",
            "grid_template_rows": null,
            "right": null,
            "justify_content": null,
            "_view_module": "@jupyter-widgets/base",
            "overflow": null,
            "_model_module_version": "1.2.0",
            "_view_count": null,
            "flex_flow": null,
            "width": null,
            "min_width": null,
            "border": null,
            "align_items": null,
            "bottom": null,
            "_model_module": "@jupyter-widgets/base",
            "top": null,
            "grid_column": null,
            "overflow_y": null,
            "overflow_x": null,
            "grid_auto_flow": null,
            "grid_area": null,
            "grid_template_columns": null,
            "flex": null,
            "_model_name": "LayoutModel",
            "justify_items": null,
            "grid_row": null,
            "max_height": null,
            "align_content": null,
            "visibility": null,
            "align_self": null,
            "height": null,
            "min_height": null,
            "padding": null,
            "grid_auto_rows": null,
            "grid_gap": null,
            "max_width": null,
            "order": null,
            "_view_module_version": "1.2.0",
            "grid_template_areas": null,
            "object_position": null,
            "object_fit": null,
            "grid_auto_columns": null,
            "margin": null,
            "display": null,
            "left": null
          }
        },
        "5df7be29d08a41568a156a2697c033fc": {
          "model_module": "@jupyter-widgets/controls",
          "model_name": "HTMLModel",
          "model_module_version": "1.5.0",
          "state": {
            "_view_name": "HTMLView",
            "style": "IPY_MODEL_f458b95b31c446da90a45ce399829bc8",
            "_dom_classes": [],
            "description": "",
            "_model_name": "HTMLModel",
            "placeholder": "​",
            "_view_module": "@jupyter-widgets/controls",
            "_model_module_version": "1.5.0",
            "value": "",
            "_view_count": null,
            "_view_module_version": "1.5.0",
            "description_tooltip": null,
            "_model_module": "@jupyter-widgets/controls",
            "layout": "IPY_MODEL_13f1d49cfb8e4d5398d7d1e26f6db9ec"
          }
        },
        "535ec22951ba4333b45f27da5d1139e9": {
          "model_module": "@jupyter-widgets/controls",
          "model_name": "FloatProgressModel",
          "model_module_version": "1.5.0",
          "state": {
            "_view_name": "ProgressView",
            "style": "IPY_MODEL_5ed172785fab4b26a97af0a2b8d8c7aa",
            "_dom_classes": [],
            "description": "",
            "_model_name": "FloatProgressModel",
            "bar_style": "success",
            "max": 9912422,
            "_view_module": "@jupyter-widgets/controls",
            "_model_module_version": "1.5.0",
            "value": 9912422,
            "_view_count": null,
            "_view_module_version": "1.5.0",
            "orientation": "horizontal",
            "min": 0,
            "description_tooltip": null,
            "_model_module": "@jupyter-widgets/controls",
            "layout": "IPY_MODEL_335ca5cd1f654eb6864723e2c2a5f07d"
          }
        },
        "e6e569d4a80d493b989353774f30d7db": {
          "model_module": "@jupyter-widgets/controls",
          "model_name": "HTMLModel",
          "model_module_version": "1.5.0",
          "state": {
            "_view_name": "HTMLView",
            "style": "IPY_MODEL_f663a633c4064621b1d39c2163f67977",
            "_dom_classes": [],
            "description": "",
            "_model_name": "HTMLModel",
            "placeholder": "​",
            "_view_module": "@jupyter-widgets/controls",
            "_model_module_version": "1.5.0",
            "value": " 9913344/? [00:00&lt;00:00, 23787500.55it/s]",
            "_view_count": null,
            "_view_module_version": "1.5.0",
            "description_tooltip": null,
            "_model_module": "@jupyter-widgets/controls",
            "layout": "IPY_MODEL_b079f278ec954aa7b9218622ffdca62b"
          }
        },
        "f458b95b31c446da90a45ce399829bc8": {
          "model_module": "@jupyter-widgets/controls",
          "model_name": "DescriptionStyleModel",
          "model_module_version": "1.5.0",
          "state": {
            "_view_name": "StyleView",
            "_model_name": "DescriptionStyleModel",
            "description_width": "",
            "_view_module": "@jupyter-widgets/base",
            "_model_module_version": "1.5.0",
            "_view_count": null,
            "_view_module_version": "1.2.0",
            "_model_module": "@jupyter-widgets/controls"
          }
        },
        "13f1d49cfb8e4d5398d7d1e26f6db9ec": {
          "model_module": "@jupyter-widgets/base",
          "model_name": "LayoutModel",
          "model_module_version": "1.2.0",
          "state": {
            "_view_name": "LayoutView",
            "grid_template_rows": null,
            "right": null,
            "justify_content": null,
            "_view_module": "@jupyter-widgets/base",
            "overflow": null,
            "_model_module_version": "1.2.0",
            "_view_count": null,
            "flex_flow": null,
            "width": null,
            "min_width": null,
            "border": null,
            "align_items": null,
            "bottom": null,
            "_model_module": "@jupyter-widgets/base",
            "top": null,
            "grid_column": null,
            "overflow_y": null,
            "overflow_x": null,
            "grid_auto_flow": null,
            "grid_area": null,
            "grid_template_columns": null,
            "flex": null,
            "_model_name": "LayoutModel",
            "justify_items": null,
            "grid_row": null,
            "max_height": null,
            "align_content": null,
            "visibility": null,
            "align_self": null,
            "height": null,
            "min_height": null,
            "padding": null,
            "grid_auto_rows": null,
            "grid_gap": null,
            "max_width": null,
            "order": null,
            "_view_module_version": "1.2.0",
            "grid_template_areas": null,
            "object_position": null,
            "object_fit": null,
            "grid_auto_columns": null,
            "margin": null,
            "display": null,
            "left": null
          }
        },
        "5ed172785fab4b26a97af0a2b8d8c7aa": {
          "model_module": "@jupyter-widgets/controls",
          "model_name": "ProgressStyleModel",
          "model_module_version": "1.5.0",
          "state": {
            "_view_name": "StyleView",
            "_model_name": "ProgressStyleModel",
            "description_width": "",
            "_view_module": "@jupyter-widgets/base",
            "_model_module_version": "1.5.0",
            "_view_count": null,
            "_view_module_version": "1.2.0",
            "bar_color": null,
            "_model_module": "@jupyter-widgets/controls"
          }
        },
        "335ca5cd1f654eb6864723e2c2a5f07d": {
          "model_module": "@jupyter-widgets/base",
          "model_name": "LayoutModel",
          "model_module_version": "1.2.0",
          "state": {
            "_view_name": "LayoutView",
            "grid_template_rows": null,
            "right": null,
            "justify_content": null,
            "_view_module": "@jupyter-widgets/base",
            "overflow": null,
            "_model_module_version": "1.2.0",
            "_view_count": null,
            "flex_flow": null,
            "width": null,
            "min_width": null,
            "border": null,
            "align_items": null,
            "bottom": null,
            "_model_module": "@jupyter-widgets/base",
            "top": null,
            "grid_column": null,
            "overflow_y": null,
            "overflow_x": null,
            "grid_auto_flow": null,
            "grid_area": null,
            "grid_template_columns": null,
            "flex": null,
            "_model_name": "LayoutModel",
            "justify_items": null,
            "grid_row": null,
            "max_height": null,
            "align_content": null,
            "visibility": null,
            "align_self": null,
            "height": null,
            "min_height": null,
            "padding": null,
            "grid_auto_rows": null,
            "grid_gap": null,
            "max_width": null,
            "order": null,
            "_view_module_version": "1.2.0",
            "grid_template_areas": null,
            "object_position": null,
            "object_fit": null,
            "grid_auto_columns": null,
            "margin": null,
            "display": null,
            "left": null
          }
        },
        "f663a633c4064621b1d39c2163f67977": {
          "model_module": "@jupyter-widgets/controls",
          "model_name": "DescriptionStyleModel",
          "model_module_version": "1.5.0",
          "state": {
            "_view_name": "StyleView",
            "_model_name": "DescriptionStyleModel",
            "description_width": "",
            "_view_module": "@jupyter-widgets/base",
            "_model_module_version": "1.5.0",
            "_view_count": null,
            "_view_module_version": "1.2.0",
            "_model_module": "@jupyter-widgets/controls"
          }
        },
        "b079f278ec954aa7b9218622ffdca62b": {
          "model_module": "@jupyter-widgets/base",
          "model_name": "LayoutModel",
          "model_module_version": "1.2.0",
          "state": {
            "_view_name": "LayoutView",
            "grid_template_rows": null,
            "right": null,
            "justify_content": null,
            "_view_module": "@jupyter-widgets/base",
            "overflow": null,
            "_model_module_version": "1.2.0",
            "_view_count": null,
            "flex_flow": null,
            "width": null,
            "min_width": null,
            "border": null,
            "align_items": null,
            "bottom": null,
            "_model_module": "@jupyter-widgets/base",
            "top": null,
            "grid_column": null,
            "overflow_y": null,
            "overflow_x": null,
            "grid_auto_flow": null,
            "grid_area": null,
            "grid_template_columns": null,
            "flex": null,
            "_model_name": "LayoutModel",
            "justify_items": null,
            "grid_row": null,
            "max_height": null,
            "align_content": null,
            "visibility": null,
            "align_self": null,
            "height": null,
            "min_height": null,
            "padding": null,
            "grid_auto_rows": null,
            "grid_gap": null,
            "max_width": null,
            "order": null,
            "_view_module_version": "1.2.0",
            "grid_template_areas": null,
            "object_position": null,
            "object_fit": null,
            "grid_auto_columns": null,
            "margin": null,
            "display": null,
            "left": null
          }
        },
        "3962d269023c4c49ad282ba18618b4f0": {
          "model_module": "@jupyter-widgets/controls",
          "model_name": "HBoxModel",
          "model_module_version": "1.5.0",
          "state": {
            "_view_name": "HBoxView",
            "_dom_classes": [],
            "_model_name": "HBoxModel",
            "_view_module": "@jupyter-widgets/controls",
            "_model_module_version": "1.5.0",
            "_view_count": null,
            "_view_module_version": "1.5.0",
            "box_style": "",
            "layout": "IPY_MODEL_05fc88ca7c2f4799a569b626532139f6",
            "_model_module": "@jupyter-widgets/controls",
            "children": [
              "IPY_MODEL_494011163fcc4208a14a41ee32243f47",
              "IPY_MODEL_6fb6393777ee412787ba0526126e2d41",
              "IPY_MODEL_0161540923104fde9ee2368f4156a1ee"
            ]
          }
        },
        "05fc88ca7c2f4799a569b626532139f6": {
          "model_module": "@jupyter-widgets/base",
          "model_name": "LayoutModel",
          "model_module_version": "1.2.0",
          "state": {
            "_view_name": "LayoutView",
            "grid_template_rows": null,
            "right": null,
            "justify_content": null,
            "_view_module": "@jupyter-widgets/base",
            "overflow": null,
            "_model_module_version": "1.2.0",
            "_view_count": null,
            "flex_flow": null,
            "width": null,
            "min_width": null,
            "border": null,
            "align_items": null,
            "bottom": null,
            "_model_module": "@jupyter-widgets/base",
            "top": null,
            "grid_column": null,
            "overflow_y": null,
            "overflow_x": null,
            "grid_auto_flow": null,
            "grid_area": null,
            "grid_template_columns": null,
            "flex": null,
            "_model_name": "LayoutModel",
            "justify_items": null,
            "grid_row": null,
            "max_height": null,
            "align_content": null,
            "visibility": null,
            "align_self": null,
            "height": null,
            "min_height": null,
            "padding": null,
            "grid_auto_rows": null,
            "grid_gap": null,
            "max_width": null,
            "order": null,
            "_view_module_version": "1.2.0",
            "grid_template_areas": null,
            "object_position": null,
            "object_fit": null,
            "grid_auto_columns": null,
            "margin": null,
            "display": null,
            "left": null
          }
        },
        "494011163fcc4208a14a41ee32243f47": {
          "model_module": "@jupyter-widgets/controls",
          "model_name": "HTMLModel",
          "model_module_version": "1.5.0",
          "state": {
            "_view_name": "HTMLView",
            "style": "IPY_MODEL_73578cb275724d109a3caaf57efc0d49",
            "_dom_classes": [],
            "description": "",
            "_model_name": "HTMLModel",
            "placeholder": "​",
            "_view_module": "@jupyter-widgets/controls",
            "_model_module_version": "1.5.0",
            "value": "",
            "_view_count": null,
            "_view_module_version": "1.5.0",
            "description_tooltip": null,
            "_model_module": "@jupyter-widgets/controls",
            "layout": "IPY_MODEL_26b3c1f92f7d4f14894f0d26428769d9"
          }
        },
        "6fb6393777ee412787ba0526126e2d41": {
          "model_module": "@jupyter-widgets/controls",
          "model_name": "FloatProgressModel",
          "model_module_version": "1.5.0",
          "state": {
            "_view_name": "ProgressView",
            "style": "IPY_MODEL_b67d569b00ba4316a29d12afcea1b68b",
            "_dom_classes": [],
            "description": "",
            "_model_name": "FloatProgressModel",
            "bar_style": "success",
            "max": 28881,
            "_view_module": "@jupyter-widgets/controls",
            "_model_module_version": "1.5.0",
            "value": 28881,
            "_view_count": null,
            "_view_module_version": "1.5.0",
            "orientation": "horizontal",
            "min": 0,
            "description_tooltip": null,
            "_model_module": "@jupyter-widgets/controls",
            "layout": "IPY_MODEL_9393343c60ea4dd498eb42b4d19e7117"
          }
        },
        "0161540923104fde9ee2368f4156a1ee": {
          "model_module": "@jupyter-widgets/controls",
          "model_name": "HTMLModel",
          "model_module_version": "1.5.0",
          "state": {
            "_view_name": "HTMLView",
            "style": "IPY_MODEL_4aa1806e21244fae8e33df9d5c088703",
            "_dom_classes": [],
            "description": "",
            "_model_name": "HTMLModel",
            "placeholder": "​",
            "_view_module": "@jupyter-widgets/controls",
            "_model_module_version": "1.5.0",
            "value": " 29696/? [00:00&lt;00:00, 520245.48it/s]",
            "_view_count": null,
            "_view_module_version": "1.5.0",
            "description_tooltip": null,
            "_model_module": "@jupyter-widgets/controls",
            "layout": "IPY_MODEL_da526554866f41c3886085d548ce0b10"
          }
        },
        "73578cb275724d109a3caaf57efc0d49": {
          "model_module": "@jupyter-widgets/controls",
          "model_name": "DescriptionStyleModel",
          "model_module_version": "1.5.0",
          "state": {
            "_view_name": "StyleView",
            "_model_name": "DescriptionStyleModel",
            "description_width": "",
            "_view_module": "@jupyter-widgets/base",
            "_model_module_version": "1.5.0",
            "_view_count": null,
            "_view_module_version": "1.2.0",
            "_model_module": "@jupyter-widgets/controls"
          }
        },
        "26b3c1f92f7d4f14894f0d26428769d9": {
          "model_module": "@jupyter-widgets/base",
          "model_name": "LayoutModel",
          "model_module_version": "1.2.0",
          "state": {
            "_view_name": "LayoutView",
            "grid_template_rows": null,
            "right": null,
            "justify_content": null,
            "_view_module": "@jupyter-widgets/base",
            "overflow": null,
            "_model_module_version": "1.2.0",
            "_view_count": null,
            "flex_flow": null,
            "width": null,
            "min_width": null,
            "border": null,
            "align_items": null,
            "bottom": null,
            "_model_module": "@jupyter-widgets/base",
            "top": null,
            "grid_column": null,
            "overflow_y": null,
            "overflow_x": null,
            "grid_auto_flow": null,
            "grid_area": null,
            "grid_template_columns": null,
            "flex": null,
            "_model_name": "LayoutModel",
            "justify_items": null,
            "grid_row": null,
            "max_height": null,
            "align_content": null,
            "visibility": null,
            "align_self": null,
            "height": null,
            "min_height": null,
            "padding": null,
            "grid_auto_rows": null,
            "grid_gap": null,
            "max_width": null,
            "order": null,
            "_view_module_version": "1.2.0",
            "grid_template_areas": null,
            "object_position": null,
            "object_fit": null,
            "grid_auto_columns": null,
            "margin": null,
            "display": null,
            "left": null
          }
        },
        "b67d569b00ba4316a29d12afcea1b68b": {
          "model_module": "@jupyter-widgets/controls",
          "model_name": "ProgressStyleModel",
          "model_module_version": "1.5.0",
          "state": {
            "_view_name": "StyleView",
            "_model_name": "ProgressStyleModel",
            "description_width": "",
            "_view_module": "@jupyter-widgets/base",
            "_model_module_version": "1.5.0",
            "_view_count": null,
            "_view_module_version": "1.2.0",
            "bar_color": null,
            "_model_module": "@jupyter-widgets/controls"
          }
        },
        "9393343c60ea4dd498eb42b4d19e7117": {
          "model_module": "@jupyter-widgets/base",
          "model_name": "LayoutModel",
          "model_module_version": "1.2.0",
          "state": {
            "_view_name": "LayoutView",
            "grid_template_rows": null,
            "right": null,
            "justify_content": null,
            "_view_module": "@jupyter-widgets/base",
            "overflow": null,
            "_model_module_version": "1.2.0",
            "_view_count": null,
            "flex_flow": null,
            "width": null,
            "min_width": null,
            "border": null,
            "align_items": null,
            "bottom": null,
            "_model_module": "@jupyter-widgets/base",
            "top": null,
            "grid_column": null,
            "overflow_y": null,
            "overflow_x": null,
            "grid_auto_flow": null,
            "grid_area": null,
            "grid_template_columns": null,
            "flex": null,
            "_model_name": "LayoutModel",
            "justify_items": null,
            "grid_row": null,
            "max_height": null,
            "align_content": null,
            "visibility": null,
            "align_self": null,
            "height": null,
            "min_height": null,
            "padding": null,
            "grid_auto_rows": null,
            "grid_gap": null,
            "max_width": null,
            "order": null,
            "_view_module_version": "1.2.0",
            "grid_template_areas": null,
            "object_position": null,
            "object_fit": null,
            "grid_auto_columns": null,
            "margin": null,
            "display": null,
            "left": null
          }
        },
        "4aa1806e21244fae8e33df9d5c088703": {
          "model_module": "@jupyter-widgets/controls",
          "model_name": "DescriptionStyleModel",
          "model_module_version": "1.5.0",
          "state": {
            "_view_name": "StyleView",
            "_model_name": "DescriptionStyleModel",
            "description_width": "",
            "_view_module": "@jupyter-widgets/base",
            "_model_module_version": "1.5.0",
            "_view_count": null,
            "_view_module_version": "1.2.0",
            "_model_module": "@jupyter-widgets/controls"
          }
        },
        "da526554866f41c3886085d548ce0b10": {
          "model_module": "@jupyter-widgets/base",
          "model_name": "LayoutModel",
          "model_module_version": "1.2.0",
          "state": {
            "_view_name": "LayoutView",
            "grid_template_rows": null,
            "right": null,
            "justify_content": null,
            "_view_module": "@jupyter-widgets/base",
            "overflow": null,
            "_model_module_version": "1.2.0",
            "_view_count": null,
            "flex_flow": null,
            "width": null,
            "min_width": null,
            "border": null,
            "align_items": null,
            "bottom": null,
            "_model_module": "@jupyter-widgets/base",
            "top": null,
            "grid_column": null,
            "overflow_y": null,
            "overflow_x": null,
            "grid_auto_flow": null,
            "grid_area": null,
            "grid_template_columns": null,
            "flex": null,
            "_model_name": "LayoutModel",
            "justify_items": null,
            "grid_row": null,
            "max_height": null,
            "align_content": null,
            "visibility": null,
            "align_self": null,
            "height": null,
            "min_height": null,
            "padding": null,
            "grid_auto_rows": null,
            "grid_gap": null,
            "max_width": null,
            "order": null,
            "_view_module_version": "1.2.0",
            "grid_template_areas": null,
            "object_position": null,
            "object_fit": null,
            "grid_auto_columns": null,
            "margin": null,
            "display": null,
            "left": null
          }
        },
        "73dc2bf1c2234000a475fffa7aedfcf2": {
          "model_module": "@jupyter-widgets/controls",
          "model_name": "HBoxModel",
          "model_module_version": "1.5.0",
          "state": {
            "_view_name": "HBoxView",
            "_dom_classes": [],
            "_model_name": "HBoxModel",
            "_view_module": "@jupyter-widgets/controls",
            "_model_module_version": "1.5.0",
            "_view_count": null,
            "_view_module_version": "1.5.0",
            "box_style": "",
            "layout": "IPY_MODEL_08a597794470472585d664d9bf8e1658",
            "_model_module": "@jupyter-widgets/controls",
            "children": [
              "IPY_MODEL_4356ef03173b4ea194faa2d52fe6672c",
              "IPY_MODEL_5b9379562fbf49ffa9f489f8d666b3f6",
              "IPY_MODEL_2a51a87799bb4445b39ed985d7021cea"
            ]
          }
        },
        "08a597794470472585d664d9bf8e1658": {
          "model_module": "@jupyter-widgets/base",
          "model_name": "LayoutModel",
          "model_module_version": "1.2.0",
          "state": {
            "_view_name": "LayoutView",
            "grid_template_rows": null,
            "right": null,
            "justify_content": null,
            "_view_module": "@jupyter-widgets/base",
            "overflow": null,
            "_model_module_version": "1.2.0",
            "_view_count": null,
            "flex_flow": null,
            "width": null,
            "min_width": null,
            "border": null,
            "align_items": null,
            "bottom": null,
            "_model_module": "@jupyter-widgets/base",
            "top": null,
            "grid_column": null,
            "overflow_y": null,
            "overflow_x": null,
            "grid_auto_flow": null,
            "grid_area": null,
            "grid_template_columns": null,
            "flex": null,
            "_model_name": "LayoutModel",
            "justify_items": null,
            "grid_row": null,
            "max_height": null,
            "align_content": null,
            "visibility": null,
            "align_self": null,
            "height": null,
            "min_height": null,
            "padding": null,
            "grid_auto_rows": null,
            "grid_gap": null,
            "max_width": null,
            "order": null,
            "_view_module_version": "1.2.0",
            "grid_template_areas": null,
            "object_position": null,
            "object_fit": null,
            "grid_auto_columns": null,
            "margin": null,
            "display": null,
            "left": null
          }
        },
        "4356ef03173b4ea194faa2d52fe6672c": {
          "model_module": "@jupyter-widgets/controls",
          "model_name": "HTMLModel",
          "model_module_version": "1.5.0",
          "state": {
            "_view_name": "HTMLView",
            "style": "IPY_MODEL_2907b32e383c4d09b593c134162d66ca",
            "_dom_classes": [],
            "description": "",
            "_model_name": "HTMLModel",
            "placeholder": "​",
            "_view_module": "@jupyter-widgets/controls",
            "_model_module_version": "1.5.0",
            "value": "",
            "_view_count": null,
            "_view_module_version": "1.5.0",
            "description_tooltip": null,
            "_model_module": "@jupyter-widgets/controls",
            "layout": "IPY_MODEL_368e8db998844a12ad95aaf7ca71399e"
          }
        },
        "5b9379562fbf49ffa9f489f8d666b3f6": {
          "model_module": "@jupyter-widgets/controls",
          "model_name": "FloatProgressModel",
          "model_module_version": "1.5.0",
          "state": {
            "_view_name": "ProgressView",
            "style": "IPY_MODEL_8128a9959a264859b46633a263117d1d",
            "_dom_classes": [],
            "description": "",
            "_model_name": "FloatProgressModel",
            "bar_style": "success",
            "max": 1648877,
            "_view_module": "@jupyter-widgets/controls",
            "_model_module_version": "1.5.0",
            "value": 1648877,
            "_view_count": null,
            "_view_module_version": "1.5.0",
            "orientation": "horizontal",
            "min": 0,
            "description_tooltip": null,
            "_model_module": "@jupyter-widgets/controls",
            "layout": "IPY_MODEL_fbd866462f854a9bafaa1f6754ba525d"
          }
        },
        "2a51a87799bb4445b39ed985d7021cea": {
          "model_module": "@jupyter-widgets/controls",
          "model_name": "HTMLModel",
          "model_module_version": "1.5.0",
          "state": {
            "_view_name": "HTMLView",
            "style": "IPY_MODEL_548193c54e784ed1b1fca6b7ec5ea802",
            "_dom_classes": [],
            "description": "",
            "_model_name": "HTMLModel",
            "placeholder": "​",
            "_view_module": "@jupyter-widgets/controls",
            "_model_module_version": "1.5.0",
            "value": " 1649664/? [00:00&lt;00:00, 17103387.00it/s]",
            "_view_count": null,
            "_view_module_version": "1.5.0",
            "description_tooltip": null,
            "_model_module": "@jupyter-widgets/controls",
            "layout": "IPY_MODEL_eb22edc085df40af883cb74001220a31"
          }
        },
        "2907b32e383c4d09b593c134162d66ca": {
          "model_module": "@jupyter-widgets/controls",
          "model_name": "DescriptionStyleModel",
          "model_module_version": "1.5.0",
          "state": {
            "_view_name": "StyleView",
            "_model_name": "DescriptionStyleModel",
            "description_width": "",
            "_view_module": "@jupyter-widgets/base",
            "_model_module_version": "1.5.0",
            "_view_count": null,
            "_view_module_version": "1.2.0",
            "_model_module": "@jupyter-widgets/controls"
          }
        },
        "368e8db998844a12ad95aaf7ca71399e": {
          "model_module": "@jupyter-widgets/base",
          "model_name": "LayoutModel",
          "model_module_version": "1.2.0",
          "state": {
            "_view_name": "LayoutView",
            "grid_template_rows": null,
            "right": null,
            "justify_content": null,
            "_view_module": "@jupyter-widgets/base",
            "overflow": null,
            "_model_module_version": "1.2.0",
            "_view_count": null,
            "flex_flow": null,
            "width": null,
            "min_width": null,
            "border": null,
            "align_items": null,
            "bottom": null,
            "_model_module": "@jupyter-widgets/base",
            "top": null,
            "grid_column": null,
            "overflow_y": null,
            "overflow_x": null,
            "grid_auto_flow": null,
            "grid_area": null,
            "grid_template_columns": null,
            "flex": null,
            "_model_name": "LayoutModel",
            "justify_items": null,
            "grid_row": null,
            "max_height": null,
            "align_content": null,
            "visibility": null,
            "align_self": null,
            "height": null,
            "min_height": null,
            "padding": null,
            "grid_auto_rows": null,
            "grid_gap": null,
            "max_width": null,
            "order": null,
            "_view_module_version": "1.2.0",
            "grid_template_areas": null,
            "object_position": null,
            "object_fit": null,
            "grid_auto_columns": null,
            "margin": null,
            "display": null,
            "left": null
          }
        },
        "8128a9959a264859b46633a263117d1d": {
          "model_module": "@jupyter-widgets/controls",
          "model_name": "ProgressStyleModel",
          "model_module_version": "1.5.0",
          "state": {
            "_view_name": "StyleView",
            "_model_name": "ProgressStyleModel",
            "description_width": "",
            "_view_module": "@jupyter-widgets/base",
            "_model_module_version": "1.5.0",
            "_view_count": null,
            "_view_module_version": "1.2.0",
            "bar_color": null,
            "_model_module": "@jupyter-widgets/controls"
          }
        },
        "fbd866462f854a9bafaa1f6754ba525d": {
          "model_module": "@jupyter-widgets/base",
          "model_name": "LayoutModel",
          "model_module_version": "1.2.0",
          "state": {
            "_view_name": "LayoutView",
            "grid_template_rows": null,
            "right": null,
            "justify_content": null,
            "_view_module": "@jupyter-widgets/base",
            "overflow": null,
            "_model_module_version": "1.2.0",
            "_view_count": null,
            "flex_flow": null,
            "width": null,
            "min_width": null,
            "border": null,
            "align_items": null,
            "bottom": null,
            "_model_module": "@jupyter-widgets/base",
            "top": null,
            "grid_column": null,
            "overflow_y": null,
            "overflow_x": null,
            "grid_auto_flow": null,
            "grid_area": null,
            "grid_template_columns": null,
            "flex": null,
            "_model_name": "LayoutModel",
            "justify_items": null,
            "grid_row": null,
            "max_height": null,
            "align_content": null,
            "visibility": null,
            "align_self": null,
            "height": null,
            "min_height": null,
            "padding": null,
            "grid_auto_rows": null,
            "grid_gap": null,
            "max_width": null,
            "order": null,
            "_view_module_version": "1.2.0",
            "grid_template_areas": null,
            "object_position": null,
            "object_fit": null,
            "grid_auto_columns": null,
            "margin": null,
            "display": null,
            "left": null
          }
        },
        "548193c54e784ed1b1fca6b7ec5ea802": {
          "model_module": "@jupyter-widgets/controls",
          "model_name": "DescriptionStyleModel",
          "model_module_version": "1.5.0",
          "state": {
            "_view_name": "StyleView",
            "_model_name": "DescriptionStyleModel",
            "description_width": "",
            "_view_module": "@jupyter-widgets/base",
            "_model_module_version": "1.5.0",
            "_view_count": null,
            "_view_module_version": "1.2.0",
            "_model_module": "@jupyter-widgets/controls"
          }
        },
        "eb22edc085df40af883cb74001220a31": {
          "model_module": "@jupyter-widgets/base",
          "model_name": "LayoutModel",
          "model_module_version": "1.2.0",
          "state": {
            "_view_name": "LayoutView",
            "grid_template_rows": null,
            "right": null,
            "justify_content": null,
            "_view_module": "@jupyter-widgets/base",
            "overflow": null,
            "_model_module_version": "1.2.0",
            "_view_count": null,
            "flex_flow": null,
            "width": null,
            "min_width": null,
            "border": null,
            "align_items": null,
            "bottom": null,
            "_model_module": "@jupyter-widgets/base",
            "top": null,
            "grid_column": null,
            "overflow_y": null,
            "overflow_x": null,
            "grid_auto_flow": null,
            "grid_area": null,
            "grid_template_columns": null,
            "flex": null,
            "_model_name": "LayoutModel",
            "justify_items": null,
            "grid_row": null,
            "max_height": null,
            "align_content": null,
            "visibility": null,
            "align_self": null,
            "height": null,
            "min_height": null,
            "padding": null,
            "grid_auto_rows": null,
            "grid_gap": null,
            "max_width": null,
            "order": null,
            "_view_module_version": "1.2.0",
            "grid_template_areas": null,
            "object_position": null,
            "object_fit": null,
            "grid_auto_columns": null,
            "margin": null,
            "display": null,
            "left": null
          }
        },
        "0d38949e211d4528be84814b5fcdb761": {
          "model_module": "@jupyter-widgets/controls",
          "model_name": "HBoxModel",
          "model_module_version": "1.5.0",
          "state": {
            "_view_name": "HBoxView",
            "_dom_classes": [],
            "_model_name": "HBoxModel",
            "_view_module": "@jupyter-widgets/controls",
            "_model_module_version": "1.5.0",
            "_view_count": null,
            "_view_module_version": "1.5.0",
            "box_style": "",
            "layout": "IPY_MODEL_79ee2f3f87f84647a00509b75fba7ab0",
            "_model_module": "@jupyter-widgets/controls",
            "children": [
              "IPY_MODEL_23687bcbf76741e1826e888d98fd5f62",
              "IPY_MODEL_3156805151c0498cb6fe6db7caf1076d",
              "IPY_MODEL_345be8cfb0294b83b65c23fdaa7abdca"
            ]
          }
        },
        "79ee2f3f87f84647a00509b75fba7ab0": {
          "model_module": "@jupyter-widgets/base",
          "model_name": "LayoutModel",
          "model_module_version": "1.2.0",
          "state": {
            "_view_name": "LayoutView",
            "grid_template_rows": null,
            "right": null,
            "justify_content": null,
            "_view_module": "@jupyter-widgets/base",
            "overflow": null,
            "_model_module_version": "1.2.0",
            "_view_count": null,
            "flex_flow": null,
            "width": null,
            "min_width": null,
            "border": null,
            "align_items": null,
            "bottom": null,
            "_model_module": "@jupyter-widgets/base",
            "top": null,
            "grid_column": null,
            "overflow_y": null,
            "overflow_x": null,
            "grid_auto_flow": null,
            "grid_area": null,
            "grid_template_columns": null,
            "flex": null,
            "_model_name": "LayoutModel",
            "justify_items": null,
            "grid_row": null,
            "max_height": null,
            "align_content": null,
            "visibility": null,
            "align_self": null,
            "height": null,
            "min_height": null,
            "padding": null,
            "grid_auto_rows": null,
            "grid_gap": null,
            "max_width": null,
            "order": null,
            "_view_module_version": "1.2.0",
            "grid_template_areas": null,
            "object_position": null,
            "object_fit": null,
            "grid_auto_columns": null,
            "margin": null,
            "display": null,
            "left": null
          }
        },
        "23687bcbf76741e1826e888d98fd5f62": {
          "model_module": "@jupyter-widgets/controls",
          "model_name": "HTMLModel",
          "model_module_version": "1.5.0",
          "state": {
            "_view_name": "HTMLView",
            "style": "IPY_MODEL_2c131af98d3a4c6790b71dbfb59152d9",
            "_dom_classes": [],
            "description": "",
            "_model_name": "HTMLModel",
            "placeholder": "​",
            "_view_module": "@jupyter-widgets/controls",
            "_model_module_version": "1.5.0",
            "value": "",
            "_view_count": null,
            "_view_module_version": "1.5.0",
            "description_tooltip": null,
            "_model_module": "@jupyter-widgets/controls",
            "layout": "IPY_MODEL_e3f1fd174ff540e7afae040e431bbad1"
          }
        },
        "3156805151c0498cb6fe6db7caf1076d": {
          "model_module": "@jupyter-widgets/controls",
          "model_name": "FloatProgressModel",
          "model_module_version": "1.5.0",
          "state": {
            "_view_name": "ProgressView",
            "style": "IPY_MODEL_15917eefc64d4ae89bdedebae3f5afac",
            "_dom_classes": [],
            "description": "",
            "_model_name": "FloatProgressModel",
            "bar_style": "success",
            "max": 4542,
            "_view_module": "@jupyter-widgets/controls",
            "_model_module_version": "1.5.0",
            "value": 4542,
            "_view_count": null,
            "_view_module_version": "1.5.0",
            "orientation": "horizontal",
            "min": 0,
            "description_tooltip": null,
            "_model_module": "@jupyter-widgets/controls",
            "layout": "IPY_MODEL_800c25c6daa74c2eb2c8d5ada40731ab"
          }
        },
        "345be8cfb0294b83b65c23fdaa7abdca": {
          "model_module": "@jupyter-widgets/controls",
          "model_name": "HTMLModel",
          "model_module_version": "1.5.0",
          "state": {
            "_view_name": "HTMLView",
            "style": "IPY_MODEL_ad1da30a0d094dacae2f468d0cff7315",
            "_dom_classes": [],
            "description": "",
            "_model_name": "HTMLModel",
            "placeholder": "​",
            "_view_module": "@jupyter-widgets/controls",
            "_model_module_version": "1.5.0",
            "value": " 5120/? [00:00&lt;00:00, 62067.08it/s]",
            "_view_count": null,
            "_view_module_version": "1.5.0",
            "description_tooltip": null,
            "_model_module": "@jupyter-widgets/controls",
            "layout": "IPY_MODEL_65f871bad38b4f5099a879b1929c6bbb"
          }
        },
        "2c131af98d3a4c6790b71dbfb59152d9": {
          "model_module": "@jupyter-widgets/controls",
          "model_name": "DescriptionStyleModel",
          "model_module_version": "1.5.0",
          "state": {
            "_view_name": "StyleView",
            "_model_name": "DescriptionStyleModel",
            "description_width": "",
            "_view_module": "@jupyter-widgets/base",
            "_model_module_version": "1.5.0",
            "_view_count": null,
            "_view_module_version": "1.2.0",
            "_model_module": "@jupyter-widgets/controls"
          }
        },
        "e3f1fd174ff540e7afae040e431bbad1": {
          "model_module": "@jupyter-widgets/base",
          "model_name": "LayoutModel",
          "model_module_version": "1.2.0",
          "state": {
            "_view_name": "LayoutView",
            "grid_template_rows": null,
            "right": null,
            "justify_content": null,
            "_view_module": "@jupyter-widgets/base",
            "overflow": null,
            "_model_module_version": "1.2.0",
            "_view_count": null,
            "flex_flow": null,
            "width": null,
            "min_width": null,
            "border": null,
            "align_items": null,
            "bottom": null,
            "_model_module": "@jupyter-widgets/base",
            "top": null,
            "grid_column": null,
            "overflow_y": null,
            "overflow_x": null,
            "grid_auto_flow": null,
            "grid_area": null,
            "grid_template_columns": null,
            "flex": null,
            "_model_name": "LayoutModel",
            "justify_items": null,
            "grid_row": null,
            "max_height": null,
            "align_content": null,
            "visibility": null,
            "align_self": null,
            "height": null,
            "min_height": null,
            "padding": null,
            "grid_auto_rows": null,
            "grid_gap": null,
            "max_width": null,
            "order": null,
            "_view_module_version": "1.2.0",
            "grid_template_areas": null,
            "object_position": null,
            "object_fit": null,
            "grid_auto_columns": null,
            "margin": null,
            "display": null,
            "left": null
          }
        },
        "15917eefc64d4ae89bdedebae3f5afac": {
          "model_module": "@jupyter-widgets/controls",
          "model_name": "ProgressStyleModel",
          "model_module_version": "1.5.0",
          "state": {
            "_view_name": "StyleView",
            "_model_name": "ProgressStyleModel",
            "description_width": "",
            "_view_module": "@jupyter-widgets/base",
            "_model_module_version": "1.5.0",
            "_view_count": null,
            "_view_module_version": "1.2.0",
            "bar_color": null,
            "_model_module": "@jupyter-widgets/controls"
          }
        },
        "800c25c6daa74c2eb2c8d5ada40731ab": {
          "model_module": "@jupyter-widgets/base",
          "model_name": "LayoutModel",
          "model_module_version": "1.2.0",
          "state": {
            "_view_name": "LayoutView",
            "grid_template_rows": null,
            "right": null,
            "justify_content": null,
            "_view_module": "@jupyter-widgets/base",
            "overflow": null,
            "_model_module_version": "1.2.0",
            "_view_count": null,
            "flex_flow": null,
            "width": null,
            "min_width": null,
            "border": null,
            "align_items": null,
            "bottom": null,
            "_model_module": "@jupyter-widgets/base",
            "top": null,
            "grid_column": null,
            "overflow_y": null,
            "overflow_x": null,
            "grid_auto_flow": null,
            "grid_area": null,
            "grid_template_columns": null,
            "flex": null,
            "_model_name": "LayoutModel",
            "justify_items": null,
            "grid_row": null,
            "max_height": null,
            "align_content": null,
            "visibility": null,
            "align_self": null,
            "height": null,
            "min_height": null,
            "padding": null,
            "grid_auto_rows": null,
            "grid_gap": null,
            "max_width": null,
            "order": null,
            "_view_module_version": "1.2.0",
            "grid_template_areas": null,
            "object_position": null,
            "object_fit": null,
            "grid_auto_columns": null,
            "margin": null,
            "display": null,
            "left": null
          }
        },
        "ad1da30a0d094dacae2f468d0cff7315": {
          "model_module": "@jupyter-widgets/controls",
          "model_name": "DescriptionStyleModel",
          "model_module_version": "1.5.0",
          "state": {
            "_view_name": "StyleView",
            "_model_name": "DescriptionStyleModel",
            "description_width": "",
            "_view_module": "@jupyter-widgets/base",
            "_model_module_version": "1.5.0",
            "_view_count": null,
            "_view_module_version": "1.2.0",
            "_model_module": "@jupyter-widgets/controls"
          }
        },
        "65f871bad38b4f5099a879b1929c6bbb": {
          "model_module": "@jupyter-widgets/base",
          "model_name": "LayoutModel",
          "model_module_version": "1.2.0",
          "state": {
            "_view_name": "LayoutView",
            "grid_template_rows": null,
            "right": null,
            "justify_content": null,
            "_view_module": "@jupyter-widgets/base",
            "overflow": null,
            "_model_module_version": "1.2.0",
            "_view_count": null,
            "flex_flow": null,
            "width": null,
            "min_width": null,
            "border": null,
            "align_items": null,
            "bottom": null,
            "_model_module": "@jupyter-widgets/base",
            "top": null,
            "grid_column": null,
            "overflow_y": null,
            "overflow_x": null,
            "grid_auto_flow": null,
            "grid_area": null,
            "grid_template_columns": null,
            "flex": null,
            "_model_name": "LayoutModel",
            "justify_items": null,
            "grid_row": null,
            "max_height": null,
            "align_content": null,
            "visibility": null,
            "align_self": null,
            "height": null,
            "min_height": null,
            "padding": null,
            "grid_auto_rows": null,
            "grid_gap": null,
            "max_width": null,
            "order": null,
            "_view_module_version": "1.2.0",
            "grid_template_areas": null,
            "object_position": null,
            "object_fit": null,
            "grid_auto_columns": null,
            "margin": null,
            "display": null,
            "left": null
          }
        }
      }
    }
  },
  "cells": [
    {
      "cell_type": "markdown",
      "metadata": {
        "id": "BQ8dHVXBOnvv"
      },
      "source": [
        "# Handwritten Digit classification using PyTorch"
      ]
    },
    {
      "cell_type": "markdown",
      "metadata": {
        "id": "x636uzviJ9jZ"
      },
      "source": [
        "### Import PyTorch library \n",
        "\n",
        "- Import PyTorch by using the **```import torch```** command.\n",
        "\n",
        "- You can check the version of PyTorch by using **```torch.__version__```** command.\n",
        "\n",
        "- Use **```torch.cuda.is_available()```** to determine if your environment supports GPU, which should return **```True```**. \n",
        "\n",
        "- If **```torch.cuda.is_available()```** returns **```False```**, you should change the accelerator (```Edit->Notebook settings```) from **None** to **GPU** (Refer to lab sheet section 3.1.7). "
      ]
    },
    {
      "cell_type": "code",
      "metadata": {
        "id": "bl1CL96QJ8QM",
        "colab": {
          "base_uri": "https://localhost:8080/"
        },
        "outputId": "bed780fd-5216-4e52-87f9-eeed209e9066"
      },
      "source": [
        "import torch\n",
        "print(torch.__version__)\n",
        "print(torch.cuda.is_available()) # Return True, if GPU is available"
      ],
      "execution_count": null,
      "outputs": [
        {
          "output_type": "stream",
          "name": "stdout",
          "text": [
            "1.9.0+cu111\n",
            "True\n"
          ]
        }
      ]
    },
    {
      "cell_type": "markdown",
      "metadata": {
        "id": "7kSLv8ubR15d"
      },
      "source": [
        "Import other necessary libraries"
      ]
    },
    {
      "cell_type": "code",
      "metadata": {
        "id": "AVkR-UlkSgxQ"
      },
      "source": [
        "from torch import nn, optim\n",
        "import torch.nn.functional as F\n",
        "from torch.autograd import Variable\n",
        "from torch.utils.data import DataLoader\n",
        "from torchvision import transforms\n",
        "from torchvision import datasets\n",
        "import numpy as np\n",
        "\n",
        "import time"
      ],
      "execution_count": null,
      "outputs": []
    },
    {
      "cell_type": "markdown",
      "metadata": {
        "id": "_N0LONGPSvPH"
      },
      "source": [
        "Define the hyperparameters of the neural network.\n",
        "\n",
        "**You will need to modify some of the training parameters for answering the questions.**"
      ]
    },
    {
      "cell_type": "code",
      "metadata": {
        "id": "J25h4ZhrS6OY"
      },
      "source": [
        "torch.manual_seed(0)\n",
        "torch.cuda.manual_seed_all(0)\n",
        "np.random.seed(0)\n",
        "\n",
        "# Training parameters\n",
        "batch_size = 32\n",
        "learning_rate = 0.1\n",
        "num_epochs = 30\n",
        "weight_decay_coef = 0 # Modify this for Q.4"
      ],
      "execution_count": null,
      "outputs": []
    },
    {
      "cell_type": "markdown",
      "metadata": {
        "id": "yFF4aJVYTnfX"
      },
      "source": [
        "## MNIST handwrittern digit dataset\n",
        "\n",
        "Create the data loaders: one for **training** and one for **evaluation**."
      ]
    },
    {
      "cell_type": "code",
      "metadata": {
        "id": "LWOkzMYWTmlC",
        "colab": {
          "base_uri": "https://localhost:8080/",
          "height": 467,
          "referenced_widgets": [
            "5f6caa65ec2d4b2eb2914a156f8951cf",
            "bf6ea52d1bd04614981e4e380a54b7a6",
            "5df7be29d08a41568a156a2697c033fc",
            "535ec22951ba4333b45f27da5d1139e9",
            "e6e569d4a80d493b989353774f30d7db",
            "f458b95b31c446da90a45ce399829bc8",
            "13f1d49cfb8e4d5398d7d1e26f6db9ec",
            "5ed172785fab4b26a97af0a2b8d8c7aa",
            "335ca5cd1f654eb6864723e2c2a5f07d",
            "f663a633c4064621b1d39c2163f67977",
            "b079f278ec954aa7b9218622ffdca62b",
            "3962d269023c4c49ad282ba18618b4f0",
            "05fc88ca7c2f4799a569b626532139f6",
            "494011163fcc4208a14a41ee32243f47",
            "6fb6393777ee412787ba0526126e2d41",
            "0161540923104fde9ee2368f4156a1ee",
            "73578cb275724d109a3caaf57efc0d49",
            "26b3c1f92f7d4f14894f0d26428769d9",
            "b67d569b00ba4316a29d12afcea1b68b",
            "9393343c60ea4dd498eb42b4d19e7117",
            "4aa1806e21244fae8e33df9d5c088703",
            "da526554866f41c3886085d548ce0b10",
            "73dc2bf1c2234000a475fffa7aedfcf2",
            "08a597794470472585d664d9bf8e1658",
            "4356ef03173b4ea194faa2d52fe6672c",
            "5b9379562fbf49ffa9f489f8d666b3f6",
            "2a51a87799bb4445b39ed985d7021cea",
            "2907b32e383c4d09b593c134162d66ca",
            "368e8db998844a12ad95aaf7ca71399e",
            "8128a9959a264859b46633a263117d1d",
            "fbd866462f854a9bafaa1f6754ba525d",
            "548193c54e784ed1b1fca6b7ec5ea802",
            "eb22edc085df40af883cb74001220a31",
            "0d38949e211d4528be84814b5fcdb761",
            "79ee2f3f87f84647a00509b75fba7ab0",
            "23687bcbf76741e1826e888d98fd5f62",
            "3156805151c0498cb6fe6db7caf1076d",
            "345be8cfb0294b83b65c23fdaa7abdca",
            "2c131af98d3a4c6790b71dbfb59152d9",
            "e3f1fd174ff540e7afae040e431bbad1",
            "15917eefc64d4ae89bdedebae3f5afac",
            "800c25c6daa74c2eb2c8d5ada40731ab",
            "ad1da30a0d094dacae2f468d0cff7315",
            "65f871bad38b4f5099a879b1929c6bbb"
          ]
        },
        "outputId": "c41aec2d-cc77-4312-83c7-ae9eb69d8858"
      },
      "source": [
        "train_dataset = datasets.MNIST(root='./data', train=True, transform=transforms.ToTensor(), download=True)\n",
        "test_dataset = datasets.MNIST(root='./data', train=False, transform=transforms.ToTensor())\n",
        "\n",
        "train_loader = DataLoader(train_dataset, batch_size=batch_size, num_workers=1, shuffle=True)\n",
        "test_loader = DataLoader(test_dataset, batch_size=batch_size, num_workers=1, shuffle=False)"
      ],
      "execution_count": null,
      "outputs": [
        {
          "output_type": "stream",
          "name": "stdout",
          "text": [
            "Downloading http://yann.lecun.com/exdb/mnist/train-images-idx3-ubyte.gz\n",
            "Downloading http://yann.lecun.com/exdb/mnist/train-images-idx3-ubyte.gz to ./data/MNIST/raw/train-images-idx3-ubyte.gz\n"
          ]
        },
        {
          "output_type": "display_data",
          "data": {
            "application/vnd.jupyter.widget-view+json": {
              "model_id": "5f6caa65ec2d4b2eb2914a156f8951cf",
              "version_minor": 0,
              "version_major": 2
            },
            "text/plain": [
              "  0%|          | 0/9912422 [00:00<?, ?it/s]"
            ]
          },
          "metadata": {}
        },
        {
          "output_type": "stream",
          "name": "stdout",
          "text": [
            "Extracting ./data/MNIST/raw/train-images-idx3-ubyte.gz to ./data/MNIST/raw\n",
            "\n",
            "Downloading http://yann.lecun.com/exdb/mnist/train-labels-idx1-ubyte.gz\n",
            "Downloading http://yann.lecun.com/exdb/mnist/train-labels-idx1-ubyte.gz to ./data/MNIST/raw/train-labels-idx1-ubyte.gz\n"
          ]
        },
        {
          "output_type": "display_data",
          "data": {
            "application/vnd.jupyter.widget-view+json": {
              "model_id": "3962d269023c4c49ad282ba18618b4f0",
              "version_minor": 0,
              "version_major": 2
            },
            "text/plain": [
              "  0%|          | 0/28881 [00:00<?, ?it/s]"
            ]
          },
          "metadata": {}
        },
        {
          "output_type": "stream",
          "name": "stdout",
          "text": [
            "Extracting ./data/MNIST/raw/train-labels-idx1-ubyte.gz to ./data/MNIST/raw\n",
            "\n",
            "Downloading http://yann.lecun.com/exdb/mnist/t10k-images-idx3-ubyte.gz\n",
            "Downloading http://yann.lecun.com/exdb/mnist/t10k-images-idx3-ubyte.gz to ./data/MNIST/raw/t10k-images-idx3-ubyte.gz\n"
          ]
        },
        {
          "output_type": "display_data",
          "data": {
            "application/vnd.jupyter.widget-view+json": {
              "model_id": "73dc2bf1c2234000a475fffa7aedfcf2",
              "version_minor": 0,
              "version_major": 2
            },
            "text/plain": [
              "  0%|          | 0/1648877 [00:00<?, ?it/s]"
            ]
          },
          "metadata": {}
        },
        {
          "output_type": "stream",
          "name": "stdout",
          "text": [
            "Extracting ./data/MNIST/raw/t10k-images-idx3-ubyte.gz to ./data/MNIST/raw\n",
            "\n",
            "Downloading http://yann.lecun.com/exdb/mnist/t10k-labels-idx1-ubyte.gz\n",
            "Downloading http://yann.lecun.com/exdb/mnist/t10k-labels-idx1-ubyte.gz to ./data/MNIST/raw/t10k-labels-idx1-ubyte.gz\n"
          ]
        },
        {
          "output_type": "display_data",
          "data": {
            "application/vnd.jupyter.widget-view+json": {
              "model_id": "0d38949e211d4528be84814b5fcdb761",
              "version_minor": 0,
              "version_major": 2
            },
            "text/plain": [
              "  0%|          | 0/4542 [00:00<?, ?it/s]"
            ]
          },
          "metadata": {}
        },
        {
          "output_type": "stream",
          "name": "stdout",
          "text": [
            "Extracting ./data/MNIST/raw/t10k-labels-idx1-ubyte.gz to ./data/MNIST/raw\n",
            "\n"
          ]
        },
        {
          "output_type": "stream",
          "name": "stderr",
          "text": [
            "/usr/local/lib/python3.7/dist-packages/torchvision/datasets/mnist.py:498: UserWarning: The given NumPy array is not writeable, and PyTorch does not support non-writeable tensors. This means you can write to the underlying (supposedly non-writeable) NumPy array using the tensor. You may want to copy the array to protect its data or make it writeable before converting it to a tensor. This type of warning will be suppressed for the rest of this program. (Triggered internally at  /pytorch/torch/csrc/utils/tensor_numpy.cpp:180.)\n",
            "  return torch.from_numpy(parsed.astype(m[2], copy=False)).view(*s)\n"
          ]
        }
      ]
    },
    {
      "cell_type": "markdown",
      "metadata": {
        "id": "MYwUt9bYUt23"
      },
      "source": [
        "### Visualizing the dataset"
      ]
    },
    {
      "cell_type": "code",
      "metadata": {
        "id": "jrDs5UorUZTG",
        "colab": {
          "base_uri": "https://localhost:8080/",
          "height": 248
        },
        "outputId": "6e5eb7b5-070b-4916-8449-405d34199f04"
      },
      "source": [
        "import matplotlib.pyplot as plt\n",
        "fig=plt.figure()\n",
        "columns = 4\n",
        "rows = 5\n",
        "for i in range(1, columns*rows+1):\n",
        "    # Try to change: train_dataset -> test_dataset, and run it again\n",
        "    img = train_dataset.__getitem__(i-1)[0][0].numpy()\n",
        "    h, w = img.shape\n",
        "    fig.add_subplot(rows, columns, i)\n",
        "    plt.axis('off')\n",
        "    plt.imshow(img, cmap=plt.get_cmap('gray'))\n",
        "plt.show()"
      ],
      "execution_count": null,
      "outputs": [
        {
          "output_type": "display_data",
          "data": {
            "image/png": "[encoded data removed]",
            "text/plain": [
              "<Figure size 432x288 with 20 Axes>"
            ]
          },
          "metadata": {
            "needs_background": "light"
          }
        }
      ]
    },
    {
      "cell_type": "markdown",
      "metadata": {
        "id": "DmcWO-EQXTIK"
      },
      "source": [
        "### Build a 4-layer Multi-Layer Perceptron (MLP)\n",
        "\n",
        "![MLP](https://github.com/johnnysclai/EIE522/blob/master/simple_neural_network_header-768x377.jpg?raw=true)\n",
        "\n",
        "Some people call it \"3-layer\" MLP, becuase there are 3 sets of trainable parameters.\n"
      ]
    },
    {
      "cell_type": "code",
      "metadata": {
        "id": "vGU7XqMFXUFu"
      },
      "source": [
        "class MLP(nn.Module):\n",
        "    # Define the structure\n",
        "    def __init__(self, in_dim, h1_dim, h2_dim, out_dim):\n",
        "        super(MLP, self).__init__()\n",
        "        self.layer1 = nn.Linear(in_dim, h1_dim, bias=True)\n",
        "        self.layer2 = nn.Linear(h1_dim, h2_dim, bias=True)\n",
        "        self.layer3 = nn.Linear(h2_dim, out_dim)\n",
        "\n",
        "    # Define the forward pass operations    \n",
        "    def forward(self, x):\n",
        "        # Reshape the img: batch_size*28*28 -> batch_size*784 \n",
        "        x = x.view(x.size(0), -1)\n",
        "        \n",
        "        x = self.layer1(x)\n",
        "        #x = F.relu(x) # Uncommend it for adding ReLU activation. Modify it for Q.3\n",
        "        x = self.layer2(x)\n",
        "        #x = F.relu(x) # Uncommend it for adding ReLU activation. Modify it for Q.3\n",
        "        x = self.layer3(x)\n",
        "        return x"
      ],
      "execution_count": null,
      "outputs": []
    },
    {
      "cell_type": "markdown",
      "metadata": {
        "id": "tRvs-BUOH0Fy"
      },
      "source": [
        "### Build a Convolutional Neural Network (CNN)\n",
        "\n",
        "![CNN](https://github.com/johnnysclai/EIE522/blob/master/Mnist%20conv_revised.jpg?raw=true)"
      ]
    },
    {
      "cell_type": "code",
      "metadata": {
        "id": "kJmuQCTkIU7e"
      },
      "source": [
        "class CNN(nn.Module):\n",
        "    def __init__(self):\n",
        "        super(CNN, self).__init__()\n",
        "        self.conv1 = nn.Conv2d(1, 10, kernel_size=5)\n",
        "        self.conv2 = nn.Conv2d(10, 20, kernel_size=5)\n",
        "        self.fc1 = nn.Linear(320, 50)\n",
        "        self.fc2 = nn.Linear(50, 10)\n",
        "\n",
        "    def forward(self, x):\n",
        "        x = self.conv1(x)\n",
        "        x = F.max_pool2d(x, 2)\n",
        "        x = F.relu(x)\n",
        "        \n",
        "        x = self.conv2(x)\n",
        "        x = F.max_pool2d(x, 2)\n",
        "        x = F.relu(x)\n",
        "        \n",
        "        x = x.view(-1, 320)\n",
        "        x = self.fc1(x)\n",
        "        x = F.relu(x)\n",
        "        \n",
        "        x = self.fc2(x)\n",
        "        \n",
        "        return x"
      ],
      "execution_count": null,
      "outputs": []
    },
    {
      "cell_type": "markdown",
      "metadata": {
        "id": "_Eoo_n3KIWWP"
      },
      "source": [
        "Create the models of the MLP and the CNN."
      ]
    },
    {
      "cell_type": "code",
      "metadata": {
        "id": "nTzyfmkeixnF"
      },
      "source": [
        "# Create a model of the MLP\n",
        "# Define the hyperparameter as follows: \n",
        "# in_dim=28*28, h1_dim=128, h2_dim=128, out_dim=10\n",
        "model_mlp = MLP(in_dim=28*28, h1_dim=128, h2_dim=128, out_dim=10)\n",
        "\n",
        "# Convert all model's trainable parameters to CUDA Tensor\n",
        "# to train with GPU\n",
        "model_mlp = model_mlp.cuda()\n",
        "\n",
        "#-------------------------------------------------------\n",
        "# Create a model of the CNN\n",
        "model_cnn = CNN()\n",
        "model_cnn = model_cnn.cuda()"
      ],
      "execution_count": null,
      "outputs": []
    },
    {
      "cell_type": "markdown",
      "metadata": {
        "id": "2sgaWFxGpFW1"
      },
      "source": [
        "We can display the details of the model."
      ]
    },
    {
      "cell_type": "code",
      "metadata": {
        "id": "mALXwJIbn5bE",
        "colab": {
          "base_uri": "https://localhost:8080/"
        },
        "outputId": "dd2110ad-a9cc-4a63-c418-e2afb1c4e918"
      },
      "source": [
        "print(model_mlp)\n",
        "\n",
        "print(model_cnn)"
      ],
      "execution_count": null,
      "outputs": [
        {
          "output_type": "stream",
          "name": "stdout",
          "text": [
            "MLP(\n",
            "  (layer1): Linear(in_features=784, out_features=128, bias=True)\n",
            "  (layer2): Linear(in_features=128, out_features=128, bias=True)\n",
            "  (layer3): Linear(in_features=128, out_features=10, bias=True)\n",
            ")\n",
            "CNN(\n",
            "  (conv1): Conv2d(1, 10, kernel_size=(5, 5), stride=(1, 1))\n",
            "  (conv2): Conv2d(10, 20, kernel_size=(5, 5), stride=(1, 1))\n",
            "  (fc1): Linear(in_features=320, out_features=50, bias=True)\n",
            "  (fc2): Linear(in_features=50, out_features=10, bias=True)\n",
            ")\n"
          ]
        }
      ]
    },
    {
      "cell_type": "markdown",
      "metadata": {
        "id": "Ys_W510XUSdT"
      },
      "source": [
        "Also, we can list the number of trainable parameters in each layer.\n",
        "\n",
        "**Show the number of trainable parameters in layer1 of the MLP and conv1 of the CNN**"
      ]
    },
    {
      "cell_type": "code",
      "metadata": {
        "id": "dP3sJixUpqeV",
        "colab": {
          "base_uri": "https://localhost:8080/"
        },
        "outputId": "730a7ed3-0d4e-41f4-b619-45303dcbb067"
      },
      "source": [
        "for param in model_mlp.layer1.parameters(): # Modify it for Q.1\n",
        "    print('Shape of parameters: ', param.shape)\n",
        "    print('Number of parameters: ', param.numel())"
      ],
      "execution_count": null,
      "outputs": [
        {
          "output_type": "stream",
          "name": "stdout",
          "text": [
            "Shape of parameters:  torch.Size([128, 784])\n",
            "Number of parameters:  100352\n",
            "Shape of parameters:  torch.Size([128])\n",
            "Number of parameters:  128\n"
          ]
        }
      ]
    },
    {
      "cell_type": "code",
      "metadata": {
        "id": "ObjKNPY_Oc_o",
        "colab": {
          "base_uri": "https://localhost:8080/"
        },
        "outputId": "7d9e7706-db42-46d9-bc80-e862c0465fb4"
      },
      "source": [
        "for param in model_cnn.conv1.parameters(): # Modify it for Q.1\n",
        "    print('Shape of parameters: ', param.shape)\n",
        "    print('number of parameters: ', param.numel())"
      ],
      "execution_count": null,
      "outputs": [
        {
          "output_type": "stream",
          "name": "stdout",
          "text": [
            "Shape of parameters:  torch.Size([10, 1, 5, 5])\n",
            "number of parameters:  250\n",
            "Shape of parameters:  torch.Size([10])\n",
            "number of parameters:  10\n"
          ]
        }
      ]
    },
    {
      "cell_type": "markdown",
      "metadata": {
        "id": "aCDsiLx6D9b7"
      },
      "source": [
        "Create a loss function and an optimizer."
      ]
    },
    {
      "cell_type": "code",
      "metadata": {
        "id": "ZMYW0Yqk0aGS"
      },
      "source": [
        "# Softmax operation is included inside the nn.CrossEntropyLoss function\n",
        "# Refer to: http://pytorch.org/docs/master/nn.html#torch.nn.CrossEntropyLoss \n",
        "CELoss = nn.CrossEntropyLoss()\n",
        "\n",
        "# Stochastic gradient descent is used as the optimizer\n",
        "# One for the MLP, another one for the CNN\n",
        "SGD_mlp = optim.SGD(model_mlp.parameters(), lr=learning_rate, weight_decay=weight_decay_coef)\n",
        "SGD_cnn = optim.SGD(model_cnn.parameters(), lr=learning_rate, weight_decay=weight_decay_coef)"
      ],
      "execution_count": null,
      "outputs": []
    },
    {
      "cell_type": "markdown",
      "metadata": {
        "id": "MspkBWQbrsut"
      },
      "source": [
        "## Create the functions to train and evaluate the model\n",
        "\n",
        "In Python, **```def```** is used to define a function. We create **```train```** and **```test```** to train the model and evaluate the performance. "
      ]
    },
    {
      "cell_type": "code",
      "metadata": {
        "id": "NgyHP5hCr653"
      },
      "source": [
        "def train(loader, net, criterion, optimizer):\n",
        "    start_time = time.time()\n",
        "\n",
        "    # Make train model of the net is turned on\n",
        "    net.train()\n",
        "\n",
        "    running_loss = 0.0\n",
        "    running_samples = 0.0\n",
        "    running_correct = 0.0\n",
        "\n",
        "    for data in loader:\n",
        "        img, label = data\n",
        "\n",
        "        running_samples += img.size(0)\n",
        "\n",
        "        # Convert to CUDA Tensor variable\n",
        "        img = img.cuda()\n",
        "        label = label.cuda()\n",
        "\n",
        "        # Feed forward\n",
        "        output_score = net(img) # dim. of output_score: batch_size*10\n",
        "\n",
        "        # Calculate the loss\n",
        "        loss = criterion(output_score, label)\n",
        "\n",
        "        # Backpropagation (3 steps)\n",
        "        # 1. Clear the gradients (i.e. all become zero)\n",
        "        # 2. Calculate the derivative of the loss with respect to the variables(trainable parameters)\n",
        "        # 3. Update the parameters (i.e. model.parameters(), as defined above) by using the optimizer\n",
        "        optimizer.zero_grad()\n",
        "        loss.backward()\n",
        "        optimizer.step()\n",
        "\n",
        "        _, pred = torch.max(output_score, 1)\n",
        "        num_correct = (pred == label).sum().item()\n",
        "\n",
        "        running_loss += loss.item()\n",
        "        running_correct += num_correct\n",
        "\n",
        "    # Calculate the average loss and top-1 accuracy for each epoch\n",
        "    average_loss = running_loss / running_samples\n",
        "    average_accuracy = running_correct / running_samples\n",
        "\n",
        "    print('Training loss: {:.4f}, Acc: {:.4f} in {:.4f}'.format(\n",
        "          average_loss, \n",
        "          average_accuracy,\n",
        "          time.time()-start_time))\n",
        " \n",
        "#---------------------------------------------------------------------------------\n",
        "def test(loader, net, criterion):\n",
        "    #In testing phase, no need to update the network.\n",
        "    start_time = time.time()\n",
        "\n",
        "    # Make eval model of the net is turned on\n",
        "    net.eval()\n",
        "\n",
        "    running_loss = 0.0\n",
        "    running_samples = 0.0\n",
        "    running_correct = 0.0\n",
        "\n",
        "    for data in loader:\n",
        "        img, label = data\n",
        "\n",
        "        running_samples += img.size(0)\n",
        "\n",
        "        # Convert to CUDA Tensor variable\n",
        "        img = img.cuda()\n",
        "        label = label.cuda()\n",
        "\n",
        "        # Feed forward\n",
        "        output_score = net(img) # dim. of output_score: batch_size*10\n",
        "\n",
        "        # Calculate the loss\n",
        "        loss = criterion(output_score, label)\n",
        "\n",
        "        _, pred = torch.max(output_score, 1)\n",
        "        num_correct = (pred == label).sum().item()\n",
        "\n",
        "        running_loss += loss.item()\n",
        "        running_correct += num_correct\n",
        "\n",
        "    # Calculate the average loss and top-1 accuracy for each epoch\n",
        "    average_loss = running_loss / running_samples\n",
        "    average_accuracy = running_correct / running_samples\n",
        "\n",
        "    print('Test loss: {:.4f}, Acc: {:.4f} in {:.4f}'.format(\n",
        "          average_loss, \n",
        "          average_accuracy,\n",
        "          time.time()-start_time))"
      ],
      "execution_count": null,
      "outputs": []
    },
    {
      "cell_type": "code",
      "metadata": {
        "id": "VZYUGXxovr4L",
        "colab": {
          "base_uri": "https://localhost:8080/"
        },
        "outputId": "3b91143e-8f0a-4d3c-b51b-2370796c2e81"
      },
      "source": [
        "# For training and test the MLP/CNN,\n",
        "# To train and test with CNN, change model_mlp->model_cnn and change SGD_mlp->SGD_cnn\n",
        "for epoch in range(1, num_epochs+1):\n",
        "    print('Epoch: ', epoch)\n",
        "    train(train_loader, model_mlp, criterion=CELoss, optimizer=SGD_mlp) # Modify model_mlp, SGD_mlp for Q.2 and Q.4\n",
        "    test(test_loader, model_mlp, criterion=CELoss) # Modify model_mlp for Q.2 and Q.4"
      ],
      "execution_count": null,
      "outputs": [
        {
          "output_type": "stream",
          "name": "stdout",
          "text": [
            "Epoch:  1\n",
            "Training loss: 0.0129, Acc: 0.8812 in 18.7893\n",
            "Test loss: 0.0095, Acc: 0.9103 in 2.8349\n",
            "Epoch:  2\n",
            "Training loss: 0.0102, Acc: 0.9074 in 18.3187\n",
            "Test loss: 0.0090, Acc: 0.9153 in 2.8562\n",
            "Epoch:  3\n",
            "Training loss: 0.0098, Acc: 0.9109 in 18.4622\n",
            "Test loss: 0.0100, Acc: 0.9104 in 2.8047\n",
            "Epoch:  4\n",
            "Training loss: 0.0096, Acc: 0.9129 in 18.5406\n",
            "Test loss: 0.0092, Acc: 0.9187 in 2.8270\n",
            "Epoch:  5\n",
            "Training loss: 0.0094, Acc: 0.9147 in 18.4840\n",
            "Test loss: 0.0092, Acc: 0.9191 in 2.8798\n",
            "Epoch:  6\n",
            "Training loss: 0.0093, Acc: 0.9163 in 18.2891\n",
            "Test loss: 0.0095, Acc: 0.9138 in 2.8962\n",
            "Epoch:  7\n",
            "Training loss: 0.0092, Acc: 0.9177 in 18.3794\n",
            "Test loss: 0.0102, Acc: 0.9094 in 2.9078\n",
            "Epoch:  8\n",
            "Training loss: 0.0091, Acc: 0.9172 in 18.4641\n",
            "Test loss: 0.0100, Acc: 0.9130 in 2.8920\n",
            "Epoch:  9\n",
            "Training loss: 0.0091, Acc: 0.9180 in 18.4236\n",
            "Test loss: 0.0086, Acc: 0.9234 in 2.8403\n",
            "Epoch:  10\n",
            "Training loss: 0.0090, Acc: 0.9185 in 18.4456\n",
            "Test loss: 0.0093, Acc: 0.9198 in 2.8223\n",
            "Epoch:  11\n",
            "Training loss: 0.0090, Acc: 0.9180 in 18.5927\n",
            "Test loss: 0.0091, Acc: 0.9205 in 2.8878\n",
            "Epoch:  12\n",
            "Training loss: 0.0089, Acc: 0.9183 in 18.3340\n",
            "Test loss: 0.0090, Acc: 0.9221 in 2.8768\n",
            "Epoch:  13\n",
            "Training loss: 0.0089, Acc: 0.9195 in 18.6771\n",
            "Test loss: 0.0092, Acc: 0.9171 in 2.8818\n",
            "Epoch:  14\n",
            "Training loss: 0.0089, Acc: 0.9197 in 18.4785\n",
            "Test loss: 0.0094, Acc: 0.9122 in 2.8882\n",
            "Epoch:  15\n",
            "Training loss: 0.0088, Acc: 0.9203 in 18.6848\n",
            "Test loss: 0.0098, Acc: 0.9114 in 2.8718\n",
            "Epoch:  16\n",
            "Training loss: 0.0088, Acc: 0.9198 in 18.3509\n",
            "Test loss: 0.0094, Acc: 0.9163 in 2.8602\n",
            "Epoch:  17\n",
            "Training loss: 0.0088, Acc: 0.9210 in 18.6604\n",
            "Test loss: 0.0089, Acc: 0.9202 in 2.8476\n",
            "Epoch:  18\n",
            "Training loss: 0.0088, Acc: 0.9214 in 18.4538\n",
            "Test loss: 0.0101, Acc: 0.9071 in 2.8250\n",
            "Epoch:  19\n",
            "Training loss: 0.0088, Acc: 0.9206 in 18.4370\n",
            "Test loss: 0.0097, Acc: 0.9133 in 2.8372\n",
            "Epoch:  20\n",
            "Training loss: 0.0087, Acc: 0.9212 in 18.4852\n",
            "Test loss: 0.0095, Acc: 0.9168 in 2.8671\n",
            "Epoch:  21\n",
            "Training loss: 0.0087, Acc: 0.9211 in 18.6282\n",
            "Test loss: 0.0101, Acc: 0.9096 in 2.8809\n",
            "Epoch:  22\n",
            "Training loss: 0.0087, Acc: 0.9218 in 18.6198\n",
            "Test loss: 0.0091, Acc: 0.9197 in 2.8784\n",
            "Epoch:  23\n",
            "Training loss: 0.0087, Acc: 0.9211 in 18.4917\n",
            "Test loss: 0.0091, Acc: 0.9195 in 2.9099\n",
            "Epoch:  24\n",
            "Training loss: 0.0086, Acc: 0.9232 in 18.5287\n",
            "Test loss: 0.0092, Acc: 0.9173 in 2.8939\n",
            "Epoch:  25\n",
            "Training loss: 0.0086, Acc: 0.9218 in 18.3234\n",
            "Test loss: 0.0096, Acc: 0.9166 in 2.8379\n",
            "Epoch:  26\n",
            "Training loss: 0.0086, Acc: 0.9229 in 18.3591\n",
            "Test loss: 0.0091, Acc: 0.9197 in 2.8736\n",
            "Epoch:  27\n",
            "Training loss: 0.0086, Acc: 0.9228 in 18.3907\n",
            "Test loss: 0.0090, Acc: 0.9194 in 2.8514\n",
            "Epoch:  28\n",
            "Training loss: 0.0086, Acc: 0.9220 in 18.4645\n",
            "Test loss: 0.0089, Acc: 0.9197 in 2.8127\n",
            "Epoch:  29\n",
            "Training loss: 0.0086, Acc: 0.9234 in 18.4805\n",
            "Test loss: 0.0088, Acc: 0.9223 in 2.9021\n",
            "Epoch:  30\n",
            "Training loss: 0.0086, Acc: 0.9225 in 18.6936\n",
            "Test loss: 0.0092, Acc: 0.9180 in 2.8813\n"
          ]
        }
      ]
    },
    {
      "cell_type": "code",
      "metadata": {
        "id": "U6BCoIDR6ptL",
        "colab": {
          "base_uri": "https://localhost:8080/"
        },
        "outputId": "619abe36-872d-4a93-a105-5af34e21ba40"
      },
      "source": [
        "print('Display the value of the trainable parameters in each layer:')\n",
        "for param in model_mlp.parameters(): # Modify for Q.4 (For CNN, change model_mlp->model_cnn)\n",
        "  print('Mean: {:.4f} Min.: {:.4f} Max.:{:.4f}'.format(\n",
        "      param.data.mean(), param.data.min(), param.data.max()))"
      ],
      "execution_count": null,
      "outputs": [
        {
          "output_type": "stream",
          "name": "stdout",
          "text": [
            "Display the value of the trainable parameters in each layer:\n",
            "Mean: -0.0002 Min.: -0.4908 Max.:0.4539\n",
            "Mean: -0.0022 Min.: -0.7762 Max.:0.9742\n",
            "Mean: 0.0002 Min.: -0.1409 Max.:0.1388\n",
            "Mean: -0.0044 Min.: -0.2592 Max.:0.2794\n",
            "Mean: 0.0019 Min.: -0.5141 Max.:0.3763\n",
            "Mean: -0.0072 Min.: -1.2363 Max.:1.4880\n"
          ]
        }
      ]
    }
  ]
}